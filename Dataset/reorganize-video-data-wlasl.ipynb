{
 "cells": [
  {
   "cell_type": "code",
   "execution_count": 1,
   "metadata": {
    "_cell_guid": "b1076dfc-b9ad-4769-8c92-a6c4dae69d19",
    "_uuid": "8f2839f25d086af736a60e9eeb907d3b93b6e0e5",
    "execution": {
     "iopub.execute_input": "2022-10-24T05:32:24.072301Z",
     "iopub.status.busy": "2022-10-24T05:32:24.071574Z",
     "iopub.status.idle": "2022-10-24T05:32:24.098299Z",
     "shell.execute_reply": "2022-10-24T05:32:24.097195Z",
     "shell.execute_reply.started": "2022-10-24T05:32:24.072176Z"
    }
   },
   "outputs": [],
   "source": [
    "import json\n",
    "import os\n",
    "import shutil\n",
    "\n",
    "import numpy as np\n",
    "import pandas as pd"
   ]
  },
  {
   "cell_type": "markdown",
   "metadata": {},
   "source": [
    "# Cargar Data"
   ]
  },
  {
   "cell_type": "code",
   "execution_count": 2,
   "metadata": {
    "execution": {
     "iopub.execute_input": "2022-10-24T05:32:24.102107Z",
     "iopub.status.busy": "2022-10-24T05:32:24.101301Z",
     "iopub.status.idle": "2022-10-24T05:32:24.463433Z",
     "shell.execute_reply": "2022-10-24T05:32:24.4626Z",
     "shell.execute_reply.started": "2022-10-24T05:32:24.102064Z"
    }
   },
   "outputs": [],
   "source": [
    "main_path = \"./\"\n",
    "wlasl_df = pd.read_json(main_path + \"WLASL_v0.3.json\")"
   ]
  },
  {
   "cell_type": "code",
   "execution_count": 3,
   "metadata": {
    "execution": {
     "iopub.execute_input": "2022-10-24T05:32:24.466387Z",
     "iopub.status.busy": "2022-10-24T05:32:24.465699Z",
     "iopub.status.idle": "2022-10-24T05:32:24.599045Z",
     "shell.execute_reply": "2022-10-24T05:32:24.597835Z",
     "shell.execute_reply.started": "2022-10-24T05:32:24.466334Z"
    }
   },
   "outputs": [
    {
     "data": {
      "text/html": [
       "<div>\n",
       "<style scoped>\n",
       "    .dataframe tbody tr th:only-of-type {\n",
       "        vertical-align: middle;\n",
       "    }\n",
       "\n",
       "    .dataframe tbody tr th {\n",
       "        vertical-align: top;\n",
       "    }\n",
       "\n",
       "    .dataframe thead th {\n",
       "        text-align: right;\n",
       "    }\n",
       "</style>\n",
       "<table border=\"1\" class=\"dataframe\">\n",
       "  <thead>\n",
       "    <tr style=\"text-align: right;\">\n",
       "      <th></th>\n",
       "      <th>gloss</th>\n",
       "      <th>instances</th>\n",
       "    </tr>\n",
       "  </thead>\n",
       "  <tbody>\n",
       "    <tr>\n",
       "      <th>0</th>\n",
       "      <td>book</td>\n",
       "      <td>[{'bbox': [385, 37, 885, 720], 'fps': 25, 'fra...</td>\n",
       "    </tr>\n",
       "    <tr>\n",
       "      <th>1</th>\n",
       "      <td>drink</td>\n",
       "      <td>[{'bbox': [551, 68, 1350, 1080], 'fps': 25, 'f...</td>\n",
       "    </tr>\n",
       "    <tr>\n",
       "      <th>2</th>\n",
       "      <td>computer</td>\n",
       "      <td>[{'bbox': [0, 0, 360, 240], 'fps': 25, 'frame_...</td>\n",
       "    </tr>\n",
       "    <tr>\n",
       "      <th>3</th>\n",
       "      <td>before</td>\n",
       "      <td>[{'bbox': [0, 0, 360, 240], 'fps': 25, 'frame_...</td>\n",
       "    </tr>\n",
       "    <tr>\n",
       "      <th>4</th>\n",
       "      <td>chair</td>\n",
       "      <td>[{'bbox': [0, 0, 360, 240], 'fps': 25, 'frame_...</td>\n",
       "    </tr>\n",
       "  </tbody>\n",
       "</table>\n",
       "</div>"
      ],
      "text/plain": [
       "      gloss                                          instances\n",
       "0      book  [{'bbox': [385, 37, 885, 720], 'fps': 25, 'fra...\n",
       "1     drink  [{'bbox': [551, 68, 1350, 1080], 'fps': 25, 'f...\n",
       "2  computer  [{'bbox': [0, 0, 360, 240], 'fps': 25, 'frame_...\n",
       "3    before  [{'bbox': [0, 0, 360, 240], 'fps': 25, 'frame_...\n",
       "4     chair  [{'bbox': [0, 0, 360, 240], 'fps': 25, 'frame_..."
      ]
     },
     "execution_count": 3,
     "metadata": {},
     "output_type": "execute_result"
    }
   ],
   "source": [
    "wlasl_df.head()"
   ]
  },
  {
   "cell_type": "code",
   "execution_count": 4,
   "metadata": {
    "execution": {
     "iopub.execute_input": "2022-10-24T05:32:24.600845Z",
     "iopub.status.busy": "2022-10-24T05:32:24.600487Z",
     "iopub.status.idle": "2022-10-24T05:32:24.608136Z",
     "shell.execute_reply": "2022-10-24T05:32:24.606926Z",
     "shell.execute_reply.started": "2022-10-24T05:32:24.600815Z"
    },
    "scrolled": true
   },
   "outputs": [
    {
     "data": {
      "text/plain": [
       "(2000, 2)"
      ]
     },
     "execution_count": 4,
     "metadata": {},
     "output_type": "execute_result"
    }
   ],
   "source": [
    "wlasl_df.shape"
   ]
  },
  {
   "cell_type": "markdown",
   "metadata": {},
   "source": [
    "# Extraer videos disponibles de dataset"
   ]
  },
  {
   "cell_type": "code",
   "execution_count": 5,
   "metadata": {
    "execution": {
     "iopub.execute_input": "2022-10-24T05:32:24.611409Z",
     "iopub.status.busy": "2022-10-24T05:32:24.611072Z",
     "iopub.status.idle": "2022-10-24T05:32:24.618773Z",
     "shell.execute_reply": "2022-10-24T05:32:24.617662Z",
     "shell.execute_reply.started": "2022-10-24T05:32:24.611379Z"
    }
   },
   "outputs": [],
   "source": [
    "def get_videos_ids(json_list):\n",
    "    \"\"\"\n",
    "    check if the video id is available in the dataset\n",
    "    and return the viedos ids of the current instance\n",
    "    \n",
    "    Args:\n",
    "        json_list: Instance of video metadata.\n",
    "        \n",
    "    Returns:\n",
    "        List of video ids.\n",
    "    \"\"\"\n",
    "    video_ids = []\n",
    "    for ins in json_list:\n",
    "        video_id = ins['video_id']\n",
    "        if os.path.exists(f'{main_path}videos/{video_id}.mp4'):\n",
    "            video_ids.append(video_id)\n",
    "    return video_ids"
   ]
  },
  {
   "cell_type": "code",
   "execution_count": 6,
   "metadata": {
    "execution": {
     "iopub.execute_input": "2022-10-24T05:32:24.620904Z",
     "iopub.status.busy": "2022-10-24T05:32:24.620493Z",
     "iopub.status.idle": "2022-10-24T05:32:24.754358Z",
     "shell.execute_reply": "2022-10-24T05:32:24.753472Z",
     "shell.execute_reply.started": "2022-10-24T05:32:24.620872Z"
    }
   },
   "outputs": [],
   "source": [
    "with open(main_path+'WLASL_v0.3.json', 'r') as data_file:\n",
    "    json_data = data_file.read()\n",
    "\n",
    "instance_json = json.loads(json_data)"
   ]
  },
  {
   "cell_type": "code",
   "execution_count": 7,
   "metadata": {
    "execution": {
     "iopub.execute_input": "2022-10-24T05:32:24.756182Z",
     "iopub.status.busy": "2022-10-24T05:32:24.755608Z",
     "iopub.status.idle": "2022-10-24T05:32:24.795294Z",
     "shell.execute_reply": "2022-10-24T05:32:24.793947Z",
     "shell.execute_reply.started": "2022-10-24T05:32:24.756149Z"
    },
    "scrolled": true
   },
   "outputs": [
    {
     "data": {
      "text/plain": [
       "['69241', '07069', '07068', '07070', '07099', '07074']"
      ]
     },
     "execution_count": 7,
     "metadata": {},
     "output_type": "execute_result"
    }
   ],
   "source": [
    "get_videos_ids(instance_json[0]['instances'])"
   ]
  },
  {
   "cell_type": "code",
   "execution_count": 8,
   "metadata": {
    "execution": {
     "iopub.execute_input": "2022-10-24T05:32:24.797537Z",
     "iopub.status.busy": "2022-10-24T05:32:24.797054Z",
     "iopub.status.idle": "2022-10-24T05:32:24.808234Z",
     "shell.execute_reply": "2022-10-24T05:32:24.806967Z",
     "shell.execute_reply.started": "2022-10-24T05:32:24.797496Z"
    }
   },
   "outputs": [
    {
     "data": {
      "text/plain": [
       "6"
      ]
     },
     "execution_count": 8,
     "metadata": {},
     "output_type": "execute_result"
    }
   ],
   "source": [
    "len(get_videos_ids(instance_json[0]['instances']))"
   ]
  },
  {
   "cell_type": "code",
   "execution_count": 9,
   "metadata": {
    "execution": {
     "iopub.execute_input": "2022-10-24T05:32:24.811335Z",
     "iopub.status.busy": "2022-10-24T05:32:24.810136Z",
     "iopub.status.idle": "2022-10-24T05:32:51.692938Z",
     "shell.execute_reply": "2022-10-24T05:32:51.69192Z",
     "shell.execute_reply.started": "2022-10-24T05:32:24.811293Z"
    }
   },
   "outputs": [],
   "source": [
    "wlasl_df[\"video_ids\"] = wlasl_df[\"instances\"].apply(get_videos_ids)"
   ]
  },
  {
   "cell_type": "code",
   "execution_count": 10,
   "metadata": {
    "execution": {
     "iopub.execute_input": "2022-10-24T05:32:51.694555Z",
     "iopub.status.busy": "2022-10-24T05:32:51.694229Z",
     "iopub.status.idle": "2022-10-24T05:32:58.940162Z",
     "shell.execute_reply": "2022-10-24T05:32:58.939198Z",
     "shell.execute_reply.started": "2022-10-24T05:32:51.694526Z"
    }
   },
   "outputs": [
    {
     "name": "stderr",
     "output_type": "stream",
     "text": [
      "/tmp/ipykernel_196192/3400695772.py:6: FutureWarning: The frame.append method is deprecated and will be removed from pandas in a future version. Use pandas.concat instead.\n",
      "  features_df = features_df.append(df, ignore_index=True)\n"
     ]
    }
   ],
   "source": [
    "features_df = pd.DataFrame(columns=['gloss', 'video_id'])\n",
    "for row in wlasl_df.iterrows():\n",
    "    ids = get_videos_ids(row[1][1])\n",
    "    word = [row[1][0]] * len(ids)\n",
    "    df = pd.DataFrame(list(zip(word, ids)), columns=features_df.columns)\n",
    "    features_df = features_df.append(df, ignore_index=True)"
   ]
  },
  {
   "cell_type": "code",
   "execution_count": 11,
   "metadata": {
    "execution": {
     "iopub.execute_input": "2022-10-24T05:32:58.943693Z",
     "iopub.status.busy": "2022-10-24T05:32:58.942893Z",
     "iopub.status.idle": "2022-10-24T05:32:58.954683Z",
     "shell.execute_reply": "2022-10-24T05:32:58.953653Z",
     "shell.execute_reply.started": "2022-10-24T05:32:58.943656Z"
    },
    "scrolled": true
   },
   "outputs": [
    {
     "data": {
      "text/html": [
       "<div>\n",
       "<style scoped>\n",
       "    .dataframe tbody tr th:only-of-type {\n",
       "        vertical-align: middle;\n",
       "    }\n",
       "\n",
       "    .dataframe tbody tr th {\n",
       "        vertical-align: top;\n",
       "    }\n",
       "\n",
       "    .dataframe thead th {\n",
       "        text-align: right;\n",
       "    }\n",
       "</style>\n",
       "<table border=\"1\" class=\"dataframe\">\n",
       "  <thead>\n",
       "    <tr style=\"text-align: right;\">\n",
       "      <th></th>\n",
       "      <th>gloss</th>\n",
       "      <th>video_id</th>\n",
       "    </tr>\n",
       "  </thead>\n",
       "  <tbody>\n",
       "    <tr>\n",
       "      <th>0</th>\n",
       "      <td>book</td>\n",
       "      <td>69241</td>\n",
       "    </tr>\n",
       "    <tr>\n",
       "      <th>1</th>\n",
       "      <td>book</td>\n",
       "      <td>07069</td>\n",
       "    </tr>\n",
       "    <tr>\n",
       "      <th>2</th>\n",
       "      <td>book</td>\n",
       "      <td>07068</td>\n",
       "    </tr>\n",
       "    <tr>\n",
       "      <th>3</th>\n",
       "      <td>book</td>\n",
       "      <td>07070</td>\n",
       "    </tr>\n",
       "    <tr>\n",
       "      <th>4</th>\n",
       "      <td>book</td>\n",
       "      <td>07099</td>\n",
       "    </tr>\n",
       "    <tr>\n",
       "      <th>...</th>\n",
       "      <td>...</td>\n",
       "      <td>...</td>\n",
       "    </tr>\n",
       "    <tr>\n",
       "      <th>11975</th>\n",
       "      <td>wheelchair</td>\n",
       "      <td>63047</td>\n",
       "    </tr>\n",
       "    <tr>\n",
       "      <th>11976</th>\n",
       "      <td>wheelchair</td>\n",
       "      <td>63050</td>\n",
       "    </tr>\n",
       "    <tr>\n",
       "      <th>11977</th>\n",
       "      <td>whistle</td>\n",
       "      <td>63186</td>\n",
       "    </tr>\n",
       "    <tr>\n",
       "      <th>11978</th>\n",
       "      <td>whistle</td>\n",
       "      <td>63188</td>\n",
       "    </tr>\n",
       "    <tr>\n",
       "      <th>11979</th>\n",
       "      <td>whistle</td>\n",
       "      <td>63190</td>\n",
       "    </tr>\n",
       "  </tbody>\n",
       "</table>\n",
       "<p>11980 rows × 2 columns</p>\n",
       "</div>"
      ],
      "text/plain": [
       "            gloss video_id\n",
       "0            book    69241\n",
       "1            book    07069\n",
       "2            book    07068\n",
       "3            book    07070\n",
       "4            book    07099\n",
       "...           ...      ...\n",
       "11975  wheelchair    63047\n",
       "11976  wheelchair    63050\n",
       "11977     whistle    63186\n",
       "11978     whistle    63188\n",
       "11979     whistle    63190\n",
       "\n",
       "[11980 rows x 2 columns]"
      ]
     },
     "execution_count": 11,
     "metadata": {},
     "output_type": "execute_result"
    }
   ],
   "source": [
    "features_df"
   ]
  },
  {
   "cell_type": "markdown",
   "metadata": {},
   "source": [
    "# Organizar videos del dataset en subdirectorios"
   ]
  },
  {
   "cell_type": "code",
   "execution_count": 12,
   "metadata": {
    "execution": {
     "iopub.execute_input": "2022-10-24T05:32:58.956574Z",
     "iopub.status.busy": "2022-10-24T05:32:58.956177Z",
     "iopub.status.idle": "2022-10-24T05:34:49.8104Z",
     "shell.execute_reply": "2022-10-24T05:34:49.80881Z",
     "shell.execute_reply.started": "2022-10-24T05:32:58.956543Z"
    }
   },
   "outputs": [],
   "source": [
    "def move_videos_to_subdir(dataframe):\n",
    "    for label in dataframe[\"gloss\"].unique():\n",
    "        dst_path = f'videos/{label}'\n",
    "        os.makedirs(dst_path, exist_ok=True)\n",
    "        \n",
    "        for video in dataframe.loc[dataframe[\"gloss\"] == label][\"video_id\"]:\n",
    "            src = f'{main_path}videos/{video}.mp4'\n",
    "            dst = dst_path + f'/{video}.mp4'\n",
    "            shutil.copyfile(src, dst)\n",
    "\n",
    "\n",
    "move_videos_to_subdir(features_df)"
   ]
  },
  {
   "cell_type": "code",
   "execution_count": 13,
   "metadata": {
    "execution": {
     "iopub.execute_input": "2022-10-24T05:34:49.812936Z",
     "iopub.status.busy": "2022-10-24T05:34:49.812414Z",
     "iopub.status.idle": "2022-10-24T05:34:49.822864Z",
     "shell.execute_reply": "2022-10-24T05:34:49.821775Z",
     "shell.execute_reply.started": "2022-10-24T05:34:49.812881Z"
    },
    "scrolled": true
   },
   "outputs": [
    {
     "data": {
      "text/plain": [
       "['00421.mp4',\n",
       " '00415.mp4',\n",
       " '00416.mp4',\n",
       " '65002.mp4',\n",
       " '65003.mp4',\n",
       " '00426.mp4',\n",
       " '00414.mp4']"
      ]
     },
     "execution_count": 13,
     "metadata": {},
     "output_type": "execute_result"
    }
   ],
   "source": [
    "os.listdir('videos/about/')"
   ]
  },
  {
   "cell_type": "code",
   "execution_count": null,
   "metadata": {},
   "outputs": [],
   "source": []
  }
 ],
 "metadata": {
  "kernelspec": {
   "display_name": "Python 3 (ipykernel)",
   "language": "python",
   "name": "python3"
  },
  "language_info": {
   "codemirror_mode": {
    "name": "ipython",
    "version": 3
   },
   "file_extension": ".py",
   "mimetype": "text/x-python",
   "name": "python",
   "nbconvert_exporter": "python",
   "pygments_lexer": "ipython3",
   "version": "3.8.3"
  }
 },
 "nbformat": 4,
 "nbformat_minor": 4
}
